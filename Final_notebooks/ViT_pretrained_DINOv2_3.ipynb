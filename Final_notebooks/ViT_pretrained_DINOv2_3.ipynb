{
 "cells": [
  {
   "cell_type": "markdown",
   "source": [
    "# ViT Small Pretrained on DINOv2 with registers \n",
    "\n",
    "## Augmentation: TrivialAugmentWide to 60000 samples\n",
    "\n",
    "## Data: Myxo vs non-Myxo\n"
   ],
   "metadata": {
    "collapsed": false
   },
   "id": "1410a8d31948e1e2"
  },
  {
   "cell_type": "markdown",
   "source": [
    "### import requirements"
   ],
   "metadata": {
    "collapsed": false
   },
   "id": "c10a7389c7dee4cc"
  },
  {
   "cell_type": "code",
   "execution_count": 17,
   "id": "initial_id",
   "metadata": {
    "collapsed": true,
    "ExecuteTime": {
     "end_time": "2024-04-02T12:31:06.452291Z",
     "start_time": "2024-04-02T12:31:06.353291600Z"
    }
   },
   "outputs": [],
   "source": [
    "import copy\n",
    "import torchvision.models as models\n",
    "import torch\n",
    "import torch.nn as nn\n",
    "from torch.optim import Adam\n",
    "from torch.nn import CrossEntropyLoss\n",
    "from torch.utils.data import DataLoader, Dataset\n",
    "from torchvision.datasets import ImageFolder\n",
    "from torchvision.transforms import transforms, autoaugment\n",
    "from sklearn.utils import resample\n",
    "import os\n",
    "import numpy as np\n",
    "import matplotlib.pyplot as plt"
   ]
  },
  {
   "cell_type": "markdown",
   "source": [
    "## Preparing Data"
   ],
   "metadata": {
    "collapsed": false
   },
   "id": "da703ffb580a457e"
  },
  {
   "cell_type": "markdown",
   "source": [
    "### Loading Original Dataset"
   ],
   "metadata": {
    "collapsed": false
   },
   "id": "94a6895498d51d47"
  },
  {
   "cell_type": "code",
   "execution_count": 18,
   "outputs": [
    {
     "name": "stdout",
     "output_type": "stream",
     "text": [
      "your device is cuda\n",
      "datasets have been created\n",
      "dataloaders have been created\n",
      "there are 2 classes, and class names are ['myxo', 'non-myxo']\n",
      "Dataset sizes: {'train': 4005, 'val': 1692}\n"
     ]
    }
   ],
   "source": [
    "device = 'cuda' if torch.cuda.is_available() else 'cpu'\n",
    "print(f'your device is {device}')\n",
    "\n",
    "mean = np.array([0.485, 0.456, 0.406])\n",
    "std = np.array([0.229, 0.224, 0.255])\n",
    "\n",
    "batch_size = 32\n",
    "\n",
    "data_transforms = {\n",
    "    'train': transforms.Compose([\n",
    "        transforms.ToTensor(),\n",
    "        transforms.RandomResizedCrop((224, 224)),\n",
    "        transforms.Normalize(mean, std)\n",
    "    ]),\n",
    "    'val': transforms.Compose([\n",
    "        transforms.ToTensor(),\n",
    "        transforms.RandomResizedCrop((224, 224)),\n",
    "        transforms.Normalize(mean, std)\n",
    "    ])\n",
    "}\n",
    "\n",
    "data_path = 'D:\\Master Project\\model\\model-1\\myxo-vs-nonmyxo-9p'\n",
    "datasets = {x: ImageFolder(root=os.path.join(data_path, x), transform=data_transforms[x]) for x in ['train', 'val']}\n",
    "print('datasets have been created')\n",
    "\n",
    "dataloaders = {x: DataLoader(dataset=datasets[x], batch_size=batch_size, num_workers=2, shuffle=False, drop_last=True)\n",
    "               for x in ['train', 'val']}\n",
    "print('dataloaders have been created')\n",
    "\n",
    "class_names = datasets['train'].classes\n",
    "print(f'there are {len(class_names)} classes, and class names are {class_names}')\n",
    "\n",
    "class_counts = {x: len(datasets[x]) for x in ['train', 'val']}\n",
    "print(f'Dataset sizes: {class_counts}')"
   ],
   "metadata": {
    "collapsed": false,
    "ExecuteTime": {
     "end_time": "2024-04-02T12:31:06.508292Z",
     "start_time": "2024-04-02T12:31:06.365291300Z"
    }
   },
   "id": "fb23dc65e3ffa848"
  },
  {
   "cell_type": "markdown",
   "source": [
    "### Counting Classes "
   ],
   "metadata": {
    "collapsed": false
   },
   "id": "548f942236e3ab5a"
  },
  {
   "cell_type": "code",
   "execution_count": 19,
   "outputs": [
    {
     "name": "stdout",
     "output_type": "stream",
     "text": [
      "Class 0: 1719 instances\n",
      "Class 1: 3945 instances\n"
     ]
    }
   ],
   "source": [
    "from collections import Counter\n",
    "\n",
    "class_counts = Counter()\n",
    "\n",
    "for phase in ['train', 'val']:\n",
    "    for _, label in dataloaders[phase]:\n",
    "        class_counts.update(label.tolist())\n",
    "\n",
    "# show details\n",
    "for label, count in class_counts.items():\n",
    "    print(f'Class {label}: {count} instances')"
   ],
   "metadata": {
    "collapsed": false,
    "ExecuteTime": {
     "end_time": "2024-04-02T12:31:24.220716100Z",
     "start_time": "2024-04-02T12:31:06.394293800Z"
    }
   },
   "id": "5254fb4ff3ed2113"
  },
  {
   "cell_type": "markdown",
   "source": [
    "### Defining Augmentation Class "
   ],
   "metadata": {
    "collapsed": false
   },
   "id": "3b8e13b60b46a67c"
  },
  {
   "cell_type": "code",
   "execution_count": 20,
   "outputs": [],
   "source": [
    "class CustomAugmentedDataset(Dataset):\n",
    "    def __init__(self, root_dir, num_samples_per_class, transform=None, num_magnitude_bins=30):\n",
    "        \"\"\"\n",
    "        Args:\n",
    "            root_dir (string): Directory with all the images.\n",
    "            num_samples_per_class (int): Desired number of samples per class after augmentation.\n",
    "            transform (callable, optional): Optional transform to be applied on a sample.\n",
    "        \"\"\"\n",
    "        self.dataset = ImageFolder(root=root_dir)\n",
    "        self.classes = self.dataset.classes\n",
    "        self.num_samples_per_class = num_samples_per_class\n",
    "        self.transform = transform\n",
    "        self.augment_transform = transforms.Compose([\n",
    "            autoaugment.TrivialAugmentWide(num_magnitude_bins=num_magnitude_bins),\n",
    "            transforms.ToTensor(),\n",
    "        ])\n",
    "        self.class_samples = self._balance_classes()\n",
    "\n",
    "    def _balance_classes(self):\n",
    "        from collections import defaultdict\n",
    "        class_indices = defaultdict(list)\n",
    "        \n",
    "        for idx, (_, class_id) in enumerate(self.dataset.samples):\n",
    "            class_indices[class_id].append(idx)\n",
    "        \n",
    "        # Reduce or oversample class indices to match num_samples_per_class\n",
    "        balanced_indices = []\n",
    "        for indices in class_indices.values():\n",
    "            if len(indices) >= self.num_samples_per_class:\n",
    "                balanced_indices.extend(indices[:self.num_samples_per_class])\n",
    "            else:\n",
    "                # Oversample if there are fewer samples than desired\n",
    "                oversampled_indices = indices * (self.num_samples_per_class // len(indices)) + indices[:self.num_samples_per_class % len(indices)]\n",
    "                balanced_indices.extend(oversampled_indices)\n",
    "                \n",
    "        return balanced_indices\n",
    "\n",
    "    def __len__(self):\n",
    "        return len(self.class_samples)\n",
    "\n",
    "    def __getitem__(self, idx):\n",
    "        img, label = self.dataset[self.class_samples[idx]]\n",
    "        if self.transform is not None:\n",
    "            img = self.transform(img)\n",
    "        else:\n",
    "            img = self.augment_transform(img)\n",
    "        return img, label\n",
    "    \n",
    "    def classes(self):\n",
    "        return self.classes"
   ],
   "metadata": {
    "collapsed": false,
    "ExecuteTime": {
     "end_time": "2024-04-02T12:31:24.232074300Z",
     "start_time": "2024-04-02T12:31:24.220064300Z"
    }
   },
   "id": "c356a006813a5b0e"
  },
  {
   "cell_type": "markdown",
   "source": [
    "### Creating Augmented Dataset"
   ],
   "metadata": {
    "collapsed": false
   },
   "id": "e4b16905939cec57"
  },
  {
   "cell_type": "code",
   "execution_count": 21,
   "outputs": [
    {
     "name": "stdout",
     "output_type": "stream",
     "text": [
      "Datasets created.\n",
      "Dataloaders created.\n",
      "--------------------------------------------------\n",
      "there are 2 classes, and class names are ['myxo', 'non-myxo']\n",
      "--------------------------------------------------\n",
      "train dataset:  60000\n",
      "val dataset:  6000\n"
     ]
    }
   ],
   "source": [
    "# Define Parameters\n",
    "data_path = 'D:\\Master Project\\model\\model-1\\myxo-vs-nonmyxo-9p'\n",
    "num_magnitude_bins = 100\n",
    "num_samples_per_class = 30000\n",
    "\n",
    "# Define any additional transformations\n",
    "transform = transforms.Compose([\n",
    "    transforms.Resize((224, 224)),\n",
    "    transforms.ToTensor()\n",
    "])\n",
    "\n",
    "# Creating datasets\n",
    "datasets = {\n",
    "    x: CustomAugmentedDataset(root_dir=os.path.join(data_path, x), transform=transform, num_magnitude_bins=num_magnitude_bins, num_samples_per_class=num_samples_per_class if x == 'train' else 3000) \n",
    "    for x in ['train', 'val']\n",
    "}\n",
    "print('Datasets created.')\n",
    "\n",
    "# Creating dataloaders\n",
    "batch_size = 32\n",
    "dataloaders = {\n",
    "    x: DataLoader(dataset=datasets[x], batch_size=batch_size, num_workers=0, shuffle=True if x == 'train' else False, drop_last=True)\n",
    "    for x in ['train', 'val']\n",
    "}\n",
    "print('Dataloaders created.')\n",
    "print('-' * 50)\n",
    "\n",
    "# Show Classes\n",
    "class_names = datasets['train'].classes\n",
    "print(f'there are {len(class_names)} classes, and class names are {class_names}')\n",
    "print('-' * 50)\n",
    "\n",
    "# Show datasets length \n",
    "print('train dataset: ', len(datasets['train']))\n",
    "print('val dataset: ', len(datasets['val']))"
   ],
   "metadata": {
    "collapsed": false,
    "ExecuteTime": {
     "end_time": "2024-04-02T12:31:24.286073600Z",
     "start_time": "2024-04-02T12:31:24.234074400Z"
    }
   },
   "id": "b20c11b136a70725"
  },
  {
   "cell_type": "markdown",
   "source": [
    "### Counting Classes"
   ],
   "metadata": {
    "collapsed": false
   },
   "id": "2907536d36769fb6"
  },
  {
   "cell_type": "code",
   "execution_count": 22,
   "outputs": [
    {
     "name": "stdout",
     "output_type": "stream",
     "text": [
      "Class 0: 33000 instances\n",
      "Class 1: 32984 instances\n"
     ]
    }
   ],
   "source": [
    "from collections import Counter\n",
    "\n",
    "class_counts = Counter()\n",
    "\n",
    "for phase in ['train', 'val']:\n",
    "    for _, label in dataloaders[phase]:\n",
    "        class_counts.update(label.tolist())\n",
    "\n",
    "# show details\n",
    "for label, count in class_counts.items():\n",
    "    print(f'Class {label}: {count} instances')"
   ],
   "metadata": {
    "collapsed": false,
    "ExecuteTime": {
     "end_time": "2024-04-02T12:32:55.234556800Z",
     "start_time": "2024-04-02T12:31:24.265073900Z"
    }
   },
   "id": "21a0f2144b8d4dda"
  },
  {
   "cell_type": "markdown",
   "source": [
    "# Showing augmented data sample "
   ],
   "metadata": {
    "collapsed": false
   },
   "id": "bb4362cb281e0985"
  },
  {
   "cell_type": "code",
   "execution_count": 23,
   "outputs": [
    {
     "name": "stdout",
     "output_type": "stream",
     "text": [
      "idx:  24265\n",
      "idx type:  <class 'numpy.ndarray'>\n",
      "image type:  <class 'torch.Tensor'>\n",
      "label:  0\n",
      "class name label:  myxo\n"
     ]
    },
    {
     "name": "stderr",
     "output_type": "stream",
     "text": [
      "C:\\Users\\Mahdiar\\AppData\\Local\\Temp\\ipykernel_12244\\2271067175.py:4: DeprecationWarning: Conversion of an array with ndim > 0 to a scalar is deprecated, and will error in future. Ensure you extract a single element from your array before performing this operation. (Deprecated NumPy 1.25.)\n",
      "  print('idx: ', int(idx))\n",
      "C:\\Users\\Mahdiar\\AppData\\Local\\Temp\\ipykernel_12244\\2271067175.py:6: DeprecationWarning: Conversion of an array with ndim > 0 to a scalar is deprecated, and will error in future. Ensure you extract a single element from your array before performing this operation. (Deprecated NumPy 1.25.)\n",
      "  image, label = datasets['train'][int(idx)]\n"
     ]
    },
    {
     "data": {
      "text/plain": "<Figure size 640x480 with 1 Axes>",
      "image/png": "[encoded data removed]"
     },
     "metadata": {},
     "output_type": "display_data"
    }
   ],
   "source": [
    "import matplotlib.pyplot as plt\n",
    "idx = np.random.randint(0, 60000, size=1)\n",
    "\n",
    "print('idx: ', int(idx))\n",
    "print('idx type: ', type(idx))\n",
    "image, label = datasets['train'][int(idx)]    \n",
    "print('image type: ', type(image))\n",
    "print('label: ', label)\n",
    "print('class name label: ', class_names[label])\n",
    "\n",
    "# Convert torch tensor for plotting\n",
    "image = image.permute(1,2,0)\n",
    "plt.imshow(image)\n",
    "plt.show()\n"
   ],
   "metadata": {
    "collapsed": false,
    "ExecuteTime": {
     "end_time": "2024-04-02T12:32:55.381561100Z",
     "start_time": "2024-04-02T12:32:55.235557500Z"
    }
   },
   "id": "f6fd339bc72cd98f"
  },
  {
   "cell_type": "markdown",
   "source": [
    "# Load ViT pretrained on DINOv2 with registers model"
   ],
   "metadata": {
    "collapsed": false
   },
   "id": "4146e0b7ca1cfad8"
  },
  {
   "cell_type": "code",
   "execution_count": 24,
   "outputs": [
    {
     "name": "stderr",
     "output_type": "stream",
     "text": [
      "Using cache found in C:\\Users\\Mahdiar/.cache\\torch\\hub\\facebookresearch_dinov2_main\n",
      "C:\\Users\\Mahdiar/.cache\\torch\\hub\\facebookresearch_dinov2_main\\dinov2\\layers\\swiglu_ffn.py:51: UserWarning: xFormers is not available (SwiGLU)\n",
      "  warnings.warn(\"xFormers is not available (SwiGLU)\")\n",
      "C:\\Users\\Mahdiar/.cache\\torch\\hub\\facebookresearch_dinov2_main\\dinov2\\layers\\attention.py:33: UserWarning: xFormers is not available (Attention)\n",
      "  warnings.warn(\"xFormers is not available (Attention)\")\n",
      "C:\\Users\\Mahdiar/.cache\\torch\\hub\\facebookresearch_dinov2_main\\dinov2\\layers\\block.py:40: UserWarning: xFormers is not available (Block)\n",
      "  warnings.warn(\"xFormers is not available (Block)\")\n",
      "Using cache found in C:\\Users\\Mahdiar/.cache\\torch\\hub\\facebookresearch_dinov2_main\n",
      "Using cache found in C:\\Users\\Mahdiar/.cache\\torch\\hub\\facebookresearch_dinov2_main\n",
      "Using cache found in C:\\Users\\Mahdiar/.cache\\torch\\hub\\facebookresearch_dinov2_main\n"
     ]
    }
   ],
   "source": [
    "# DINOv2\n",
    "dinov2_vits14_21M = torch.hub.load('facebookresearch/dinov2', 'dinov2_vits14')\n",
    "dinov2_vitb14_86M = torch.hub.load('facebookresearch/dinov2', 'dinov2_vitb14')\n",
    "# dinov2_vitl14 = torch.hub.load('facebookresearch/dinov2', 'dinov2_vitl14')\n",
    "# dinov2_vitg14 = torch.hub.load('facebookresearch/dinov2', 'dinov2_vitg14')\n",
    "\n",
    "# DINOv2 with registers\n",
    "dinov2_vits14_reg_21M = torch.hub.load('facebookresearch/dinov2', 'dinov2_vits14_reg')\n",
    "dinov2_vitb14_reg_86M = torch.hub.load('facebookresearch/dinov2', 'dinov2_vitb14_reg')\n",
    "# dinov2_vitl14_reg = torch.hub.load('facebookresearch/dinov2', 'dinov2_vitl14_reg')\n",
    "# dinov2_vitg14_reg = torch.hub.load('facebookresearch/dinov2', 'dinov2_vitg14_reg')"
   ],
   "metadata": {
    "collapsed": false,
    "ExecuteTime": {
     "end_time": "2024-04-02T12:32:58.761854100Z",
     "start_time": "2024-04-02T12:32:55.378561300Z"
    }
   },
   "id": "d7e8b394f43e584f"
  },
  {
   "cell_type": "markdown",
   "source": [
    "# Fine-Tune model classifier and trainable parameters "
   ],
   "metadata": {
    "collapsed": false
   },
   "id": "67796172e50e4566"
  },
  {
   "cell_type": "code",
   "execution_count": 25,
   "outputs": [
    {
     "name": "stdout",
     "output_type": "stream",
     "text": [
      "DinoVisionTransformer(\n",
      "  (patch_embed): PatchEmbed(\n",
      "    (proj): Conv2d(3, 384, kernel_size=(14, 14), stride=(14, 14))\n",
      "    (norm): Identity()\n",
      "  )\n",
      "  (blocks): ModuleList(\n",
      "    (0-11): 12 x NestedTensorBlock(\n",
      "      (norm1): LayerNorm((384,), eps=1e-06, elementwise_affine=True)\n",
      "      (attn): MemEffAttention(\n",
      "        (qkv): Linear(in_features=384, out_features=1152, bias=True)\n",
      "        (attn_drop): Dropout(p=0.0, inplace=False)\n",
      "        (proj): Linear(in_features=384, out_features=384, bias=True)\n",
      "        (proj_drop): Dropout(p=0.0, inplace=False)\n",
      "      )\n",
      "      (ls1): LayerScale()\n",
      "      (drop_path1): Identity()\n",
      "      (norm2): LayerNorm((384,), eps=1e-06, elementwise_affine=True)\n",
      "      (mlp): Mlp(\n",
      "        (fc1): Linear(in_features=384, out_features=1536, bias=True)\n",
      "        (act): GELU(approximate='none')\n",
      "        (fc2): Linear(in_features=1536, out_features=384, bias=True)\n",
      "        (drop): Dropout(p=0.0, inplace=False)\n",
      "      )\n",
      "      (ls2): LayerScale()\n",
      "      (drop_path2): Identity()\n",
      "    )\n",
      "  )\n",
      "  (norm): LayerNorm((384,), eps=1e-06, elementwise_affine=True)\n",
      "  (head): Sequential(\n",
      "    (0): Linear(in_features=384, out_features=2, bias=True)\n",
      "  )\n",
      ")\n"
     ]
    }
   ],
   "source": [
    "# Define model\n",
    "model = dinov2_vits14_reg_21M\n",
    "\n",
    "# Define classifier for Binary Classification task\n",
    "model.head  = nn.Sequential(\n",
    "    nn.Linear(384, 2)\n",
    ")\n",
    "print(dinov2_vits14_reg_21M)\n",
    "\n",
    "# Set about 30% of parameters trainable \n",
    "model_params = 0\n",
    "for idx, param in enumerate(model.parameters()):\n",
    "    param.requires_grad = False\n",
    "    model_params += 1\n",
    "    if idx == 125:\n",
    "        break"
   ],
   "metadata": {
    "collapsed": false,
    "ExecuteTime": {
     "end_time": "2024-04-02T12:32:58.782861200Z",
     "start_time": "2024-04-02T12:32:58.762854100Z"
    }
   },
   "id": "abcde227a150ca83"
  },
  {
   "cell_type": "markdown",
   "source": [
    "## Defining Train function "
   ],
   "metadata": {
    "collapsed": false
   },
   "id": "ea8eff45af7cf71e"
  },
  {
   "cell_type": "code",
   "execution_count": 26,
   "outputs": [],
   "source": [
    "from datetime import datetime\n",
    "from easydict import EasyDict\n",
    "\n",
    "\n",
    "# train function \n",
    "def train_model(model, criterion, optimizer, dataloaders, datasets, epoch_num=25):\n",
    "    acc_list = EasyDict({'train': [], 'val': []})\n",
    "    loss_list = EasyDict({'train': [], 'val': []})\n",
    "\n",
    "    # Copy the best model weights for loading at the End\n",
    "    best_model_wts = copy.deepcopy(model.state_dict())\n",
    "    best_accuracy = 0.0\n",
    "\n",
    "    # Iterating over epochs\n",
    "    for epoch in range(1, epoch_num + 1):\n",
    "        print(f'Epoch {epoch}/{epoch_num}:')\n",
    "\n",
    "        # Each epoch has two phase Train and Validation\n",
    "        for phase in ['train', 'val']:\n",
    "            s0 = datetime.now()\n",
    "            if phase == 'train':\n",
    "                model.train()\n",
    "            else:\n",
    "                model.eval()\n",
    "\n",
    "            # For calculating Loss and Accuracy at the end of epoch\n",
    "            running_loss = 0.0\n",
    "            running_corrects = 0.0\n",
    "\n",
    "            # Iterating over batches and data for training and validation\n",
    "            for idx, batch in enumerate(dataloaders[phase], 0):\n",
    "                inputs, labels = batch\n",
    "\n",
    "                # Transfer data and labels to CUDA if is available\n",
    "                inputs = inputs.to(device)\n",
    "                labels = labels.to(device)\n",
    "\n",
    "                optimizer.zero_grad()\n",
    "\n",
    "                # Forward Pass\n",
    "                with torch.set_grad_enabled(phase == 'train'):\n",
    "                    outputs = model(inputs)\n",
    "                    loss = criterion(outputs, labels)\n",
    "\n",
    "                    _, predictions = torch.max(outputs, 1)\n",
    "\n",
    "                    # Back Propagation and updating weights\n",
    "                    if phase == 'train':\n",
    "                        loss.backward()\n",
    "                        optimizer.step()\n",
    "\n",
    "                running_loss += loss.item() * inputs.size(0)\n",
    "                running_corrects += torch.sum(predictions == labels.data)\n",
    "\n",
    "            # Calculating Accuracy and Loss per phase\n",
    "            epoch_loss = running_loss / len(datasets[phase])\n",
    "            epoch_accuracy = running_corrects / len(datasets[phase])\n",
    "\n",
    "            # Show epoch details\n",
    "            delta = datetime.now() - s0\n",
    "            print(f'{phase.capitalize()} Accuracy: {epoch_accuracy:.4f} | Loss: {epoch_loss:.4f} | time: {delta}')\n",
    "\n",
    "            # Copy the model weights if its better\n",
    "            if phase == 'val' and epoch_accuracy > best_accuracy:\n",
    "                best_accuracy = epoch_accuracy\n",
    "                best_model_wts = copy.deepcopy(model.state_dict())\n",
    "                print('Best model weights updated!')\n",
    "\n",
    "            # Save Loss and accuracy\n",
    "            acc_list[phase].append(epoch_accuracy)\n",
    "            loss_list[phase].append(epoch_loss)\n",
    "        print('-' * 50)\n",
    "\n",
    "    print(f'Best Accuracy: {best_accuracy:.4f}')\n",
    "\n",
    "    # Loading best model weights \n",
    "    model.load_state_dict(best_model_wts)\n",
    "    return model, acc_list, loss_list"
   ],
   "metadata": {
    "collapsed": false,
    "ExecuteTime": {
     "end_time": "2024-04-02T12:32:58.823860800Z",
     "start_time": "2024-04-02T12:32:58.778861300Z"
    }
   },
   "id": "ca51a45e8fe06df4"
  },
  {
   "cell_type": "markdown",
   "source": [
    "# Train ViT-s DINOv2 with registers \n",
    "---------------\n",
    "## Hyperparameters:\n",
    "### optimizer: Adam\n",
    "### criterion: CrossEntropy\n",
    "### Learning Rate: 0.001\n",
    "### batch size: 32\n",
    "### epoch: 50"
   ],
   "metadata": {
    "collapsed": false
   },
   "id": "1f92ba5a34d052b6"
  },
  {
   "cell_type": "code",
   "execution_count": 27,
   "outputs": [
    {
     "name": "stdout",
     "output_type": "stream",
     "text": [
      "your device is cuda\n",
      "\n",
      "DinoVisionTransformer(\n",
      "  (patch_embed): PatchEmbed(\n",
      "    (proj): Conv2d(3, 384, kernel_size=(14, 14), stride=(14, 14))\n",
      "    (norm): Identity()\n",
      "  )\n",
      "  (blocks): ModuleList(\n",
      "    (0-11): 12 x NestedTensorBlock(\n",
      "      (norm1): LayerNorm((384,), eps=1e-06, elementwise_affine=True)\n",
      "      (attn): MemEffAttention(\n",
      "        (qkv): Linear(in_features=384, out_features=1152, bias=True)\n",
      "        (attn_drop): Dropout(p=0.0, inplace=False)\n",
      "        (proj): Linear(in_features=384, out_features=384, bias=True)\n",
      "        (proj_drop): Dropout(p=0.0, inplace=False)\n",
      "      )\n",
      "      (ls1): LayerScale()\n",
      "      (drop_path1): Identity()\n",
      "      (norm2): LayerNorm((384,), eps=1e-06, elementwise_affine=True)\n",
      "      (mlp): Mlp(\n",
      "        (fc1): Linear(in_features=384, out_features=1536, bias=True)\n",
      "        (act): GELU(approximate='none')\n",
      "        (fc2): Linear(in_features=1536, out_features=384, bias=True)\n",
      "        (drop): Dropout(p=0.0, inplace=False)\n",
      "      )\n",
      "      (ls2): LayerScale()\n",
      "      (drop_path2): Identity()\n",
      "    )\n",
      "  )\n",
      "  (norm): LayerNorm((384,), eps=1e-06, elementwise_affine=True)\n",
      "  (head): Sequential(\n",
      "    (0): Linear(in_features=384, out_features=2, bias=True)\n",
      "  )\n",
      ")\n",
      "--------------------------------------------------\n",
      "Epoch 1/50:\n",
      "Train Accuracy: 0.8737 | Loss: 0.3116 | time: 0:04:51.048064\n",
      "Val Accuracy: 0.6237 | Loss: 1.3051 | time: 0:00:21.485749\n",
      "Best model weights updated!\n",
      "--------------------------------------------------\n",
      "Epoch 2/50:\n",
      "Train Accuracy: 0.8903 | Loss: 0.2732 | time: 0:04:50.987418\n",
      "Val Accuracy: 0.5815 | Loss: 1.4550 | time: 0:00:21.372136\n",
      "--------------------------------------------------\n",
      "Epoch 3/50:\n",
      "Train Accuracy: 0.9362 | Loss: 0.1751 | time: 0:04:51.443552\n",
      "Val Accuracy: 0.5750 | Loss: 2.3133 | time: 0:00:21.609860\n",
      "--------------------------------------------------\n",
      "Epoch 4/50:\n",
      "Train Accuracy: 0.9574 | Loss: 0.1243 | time: 0:04:51.813052\n",
      "Val Accuracy: 0.5783 | Loss: 2.1661 | time: 0:00:21.404121\n",
      "--------------------------------------------------\n",
      "Epoch 5/50:\n",
      "Train Accuracy: 0.9137 | Loss: 0.2266 | time: 0:04:51.680993\n",
      "Val Accuracy: 0.6162 | Loss: 1.2478 | time: 0:00:21.715461\n",
      "--------------------------------------------------\n",
      "Epoch 6/50:\n",
      "Train Accuracy: 0.9563 | Loss: 0.1257 | time: 0:04:51.274569\n",
      "Val Accuracy: 0.5973 | Loss: 1.1362 | time: 0:00:21.336924\n",
      "--------------------------------------------------\n",
      "Epoch 7/50:\n",
      "Train Accuracy: 0.9572 | Loss: 0.1237 | time: 0:04:50.820367\n",
      "Val Accuracy: 0.5900 | Loss: 1.7814 | time: 0:00:21.285556\n",
      "--------------------------------------------------\n",
      "Epoch 8/50:\n",
      "Train Accuracy: 0.9811 | Loss: 0.0591 | time: 0:04:50.789003\n",
      "Val Accuracy: 0.5893 | Loss: 2.9469 | time: 0:00:21.471464\n",
      "--------------------------------------------------\n",
      "Epoch 9/50:\n",
      "Train Accuracy: 0.9570 | Loss: 0.1150 | time: 0:04:52.866179\n",
      "Val Accuracy: 0.5783 | Loss: 2.8299 | time: 0:00:21.755168\n",
      "--------------------------------------------------\n",
      "Epoch 10/50:\n",
      "Train Accuracy: 0.9794 | Loss: 0.0606 | time: 0:04:51.268407\n",
      "Val Accuracy: 0.5927 | Loss: 1.7068 | time: 0:00:21.579630\n",
      "--------------------------------------------------\n",
      "Epoch 11/50:\n",
      "Train Accuracy: 0.9838 | Loss: 0.0516 | time: 0:04:51.359905\n",
      "Val Accuracy: 0.5717 | Loss: 3.3034 | time: 0:00:21.469368\n",
      "--------------------------------------------------\n",
      "Epoch 12/50:\n",
      "Train Accuracy: 0.9647 | Loss: 0.1036 | time: 0:04:51.048444\n",
      "Val Accuracy: 0.5847 | Loss: 2.2166 | time: 0:00:21.677459\n",
      "--------------------------------------------------\n",
      "Epoch 13/50:\n",
      "Train Accuracy: 0.9840 | Loss: 0.0506 | time: 0:04:51.990137\n",
      "Val Accuracy: 0.6095 | Loss: 2.4991 | time: 0:00:21.481228\n",
      "--------------------------------------------------\n",
      "Epoch 14/50:\n",
      "Train Accuracy: 0.9903 | Loss: 0.0305 | time: 0:04:51.697854\n",
      "Val Accuracy: 0.5848 | Loss: 2.8523 | time: 0:00:21.474158\n",
      "--------------------------------------------------\n",
      "Epoch 15/50:\n",
      "Train Accuracy: 0.9871 | Loss: 0.0410 | time: 0:04:51.882134\n",
      "Val Accuracy: 0.6055 | Loss: 1.9202 | time: 0:00:21.495664\n",
      "--------------------------------------------------\n",
      "Epoch 16/50:\n",
      "Train Accuracy: 0.9868 | Loss: 0.0435 | time: 0:04:50.894347\n",
      "Val Accuracy: 0.6045 | Loss: 2.1252 | time: 0:00:21.418938\n",
      "--------------------------------------------------\n",
      "Epoch 17/50:\n",
      "Train Accuracy: 0.9844 | Loss: 0.0509 | time: 0:04:51.137182\n",
      "Val Accuracy: 0.6052 | Loss: 2.3501 | time: 0:00:21.403918\n",
      "--------------------------------------------------\n",
      "Epoch 18/50:\n",
      "Train Accuracy: 0.9935 | Loss: 0.0238 | time: 0:04:52.570125\n",
      "Val Accuracy: 0.5955 | Loss: 3.1116 | time: 0:00:21.669834\n",
      "--------------------------------------------------\n",
      "Epoch 19/50:\n",
      "Train Accuracy: 0.9864 | Loss: 0.0433 | time: 0:04:51.387638\n",
      "Val Accuracy: 0.5947 | Loss: 2.0272 | time: 0:00:21.760870\n",
      "--------------------------------------------------\n",
      "Epoch 20/50:\n",
      "Train Accuracy: 0.9902 | Loss: 0.0361 | time: 0:04:51.507122\n",
      "Val Accuracy: 0.6082 | Loss: 2.9864 | time: 0:00:21.382121\n",
      "--------------------------------------------------\n",
      "Epoch 21/50:\n",
      "Train Accuracy: 0.9955 | Loss: 0.0157 | time: 0:04:50.924949\n",
      "Val Accuracy: 0.5688 | Loss: 3.4723 | time: 0:00:21.284926\n",
      "--------------------------------------------------\n",
      "Epoch 22/50:\n",
      "Train Accuracy: 0.9979 | Loss: 0.0069 | time: 0:04:52.063359\n",
      "Val Accuracy: 0.5797 | Loss: 5.6063 | time: 0:00:21.555946\n",
      "--------------------------------------------------\n",
      "Epoch 23/50:\n",
      "Train Accuracy: 1.0000 | Loss: 0.0000 | time: 0:04:51.514329\n",
      "Val Accuracy: 0.5803 | Loss: 6.6945 | time: 0:00:21.520863\n",
      "--------------------------------------------------\n",
      "Epoch 24/50:\n",
      "Train Accuracy: 1.0000 | Loss: 0.0000 | time: 0:04:53.141625\n",
      "Val Accuracy: 0.5808 | Loss: 7.4742 | time: 0:00:21.598266\n",
      "--------------------------------------------------\n",
      "Epoch 25/50:\n",
      "Train Accuracy: 1.0000 | Loss: 0.0000 | time: 0:04:54.357860\n",
      "Val Accuracy: 0.5802 | Loss: 8.0717 | time: 0:00:21.789208\n",
      "--------------------------------------------------\n",
      "Epoch 26/50:\n",
      "Train Accuracy: 1.0000 | Loss: 0.0000 | time: 0:04:54.226762\n",
      "Val Accuracy: 0.5797 | Loss: 8.5440 | time: 0:00:21.680202\n",
      "--------------------------------------------------\n",
      "Epoch 27/50:\n",
      "Train Accuracy: 1.0000 | Loss: 0.0000 | time: 0:04:56.331457\n",
      "Val Accuracy: 0.5795 | Loss: 8.9398 | time: 0:00:21.979846\n",
      "--------------------------------------------------\n",
      "Epoch 28/50:\n",
      "Train Accuracy: 1.0000 | Loss: 0.0000 | time: 0:04:55.024750\n",
      "Val Accuracy: 0.5780 | Loss: 9.2751 | time: 0:00:21.650785\n",
      "--------------------------------------------------\n",
      "Epoch 29/50:\n",
      "Train Accuracy: 1.0000 | Loss: 0.0000 | time: 0:04:55.223293\n",
      "Val Accuracy: 0.5773 | Loss: 9.5601 | time: 0:00:21.629130\n",
      "--------------------------------------------------\n",
      "Epoch 30/50:\n",
      "Train Accuracy: 1.0000 | Loss: 0.0000 | time: 0:04:54.511251\n",
      "Val Accuracy: 0.5782 | Loss: 9.8238 | time: 0:00:21.758853\n",
      "--------------------------------------------------\n",
      "Epoch 31/50:\n",
      "Train Accuracy: 1.0000 | Loss: 0.0000 | time: 0:04:56.368666\n",
      "Val Accuracy: 0.5772 | Loss: 10.0772 | time: 0:00:22.004993\n",
      "--------------------------------------------------\n",
      "Epoch 32/50:\n",
      "Train Accuracy: 1.0000 | Loss: 0.0000 | time: 0:04:54.827960\n",
      "Val Accuracy: 0.5767 | Loss: 10.2596 | time: 0:00:21.779451\n",
      "--------------------------------------------------\n",
      "Epoch 33/50:\n",
      "Train Accuracy: 0.9916 | Loss: 0.0279 | time: 0:04:55.767499\n",
      "Val Accuracy: 0.5793 | Loss: 2.3594 | time: 0:00:21.456885\n",
      "--------------------------------------------------\n",
      "Epoch 34/50:\n"
     ]
    },
    {
     "name": "stderr",
     "output_type": "stream",
     "text": [
      "Exception ignored in: <Finalize object, dead>\n",
      "Traceback (most recent call last):\n",
      "  File \"C:\\Users\\Mahdiar\\AppData\\Local\\Programs\\Python\\Python310\\lib\\multiprocessing\\util.py\", line 218, in __call__\n",
      "    if self._pid != getpid():\n",
      "KeyboardInterrupt: \n"
     ]
    },
    {
     "ename": "KeyboardInterrupt",
     "evalue": "",
     "output_type": "error",
     "traceback": [
      "\u001B[1;31m---------------------------------------------------------------------------\u001B[0m",
      "\u001B[1;31mKeyboardInterrupt\u001B[0m                         Traceback (most recent call last)",
      "Cell \u001B[1;32mIn[27], line 11\u001B[0m\n\u001B[0;32m      8\u001B[0m \u001B[38;5;28mprint\u001B[39m(\u001B[38;5;124m'\u001B[39m\u001B[38;5;124m-\u001B[39m\u001B[38;5;124m'\u001B[39m \u001B[38;5;241m*\u001B[39m \u001B[38;5;241m50\u001B[39m)\n\u001B[0;32m     10\u001B[0m \u001B[38;5;66;03m# train model\u001B[39;00m\n\u001B[1;32m---> 11\u001B[0m model, acc_lists, loss_lists \u001B[38;5;241m=\u001B[39m \u001B[43mtrain_model\u001B[49m\u001B[43m(\u001B[49m\u001B[43mmodel\u001B[49m\u001B[43m,\u001B[49m\u001B[43m \u001B[49m\u001B[43mcriterion\u001B[49m\u001B[43m,\u001B[49m\u001B[43m \u001B[49m\u001B[43moptimizer\u001B[49m\u001B[43m,\u001B[49m\u001B[43m \u001B[49m\u001B[43mdataloaders\u001B[49m\u001B[43m,\u001B[49m\u001B[43m \u001B[49m\u001B[43mdatasets\u001B[49m\u001B[43m,\u001B[49m\u001B[43m \u001B[49m\u001B[43mepoch_num\u001B[49m\u001B[38;5;241;43m=\u001B[39;49m\u001B[38;5;241;43m50\u001B[39;49m\u001B[43m)\u001B[49m\n",
      "Cell \u001B[1;32mIn[26], line 31\u001B[0m, in \u001B[0;36mtrain_model\u001B[1;34m(model, criterion, optimizer, dataloaders, datasets, epoch_num)\u001B[0m\n\u001B[0;32m     28\u001B[0m running_corrects \u001B[38;5;241m=\u001B[39m \u001B[38;5;241m0.0\u001B[39m\n\u001B[0;32m     30\u001B[0m \u001B[38;5;66;03m# Iterating over batches and data for training and validation\u001B[39;00m\n\u001B[1;32m---> 31\u001B[0m \u001B[38;5;28;01mfor\u001B[39;00m idx, batch \u001B[38;5;129;01min\u001B[39;00m \u001B[38;5;28menumerate\u001B[39m(dataloaders[phase], \u001B[38;5;241m0\u001B[39m):\n\u001B[0;32m     32\u001B[0m     inputs, labels \u001B[38;5;241m=\u001B[39m batch\n\u001B[0;32m     34\u001B[0m     \u001B[38;5;66;03m# Transfer data and labels to CUDA if is available\u001B[39;00m\n",
      "File \u001B[1;32m~\\AppData\\Local\\Programs\\Python\\Python310\\lib\\site-packages\\torch\\utils\\data\\dataloader.py:630\u001B[0m, in \u001B[0;36m_BaseDataLoaderIter.__next__\u001B[1;34m(self)\u001B[0m\n\u001B[0;32m    627\u001B[0m \u001B[38;5;28;01mif\u001B[39;00m \u001B[38;5;28mself\u001B[39m\u001B[38;5;241m.\u001B[39m_sampler_iter \u001B[38;5;129;01mis\u001B[39;00m \u001B[38;5;28;01mNone\u001B[39;00m:\n\u001B[0;32m    628\u001B[0m     \u001B[38;5;66;03m# TODO(https://github.com/pytorch/pytorch/issues/76750)\u001B[39;00m\n\u001B[0;32m    629\u001B[0m     \u001B[38;5;28mself\u001B[39m\u001B[38;5;241m.\u001B[39m_reset()  \u001B[38;5;66;03m# type: ignore[call-arg]\u001B[39;00m\n\u001B[1;32m--> 630\u001B[0m data \u001B[38;5;241m=\u001B[39m \u001B[38;5;28;43mself\u001B[39;49m\u001B[38;5;241;43m.\u001B[39;49m\u001B[43m_next_data\u001B[49m\u001B[43m(\u001B[49m\u001B[43m)\u001B[49m\n\u001B[0;32m    631\u001B[0m \u001B[38;5;28mself\u001B[39m\u001B[38;5;241m.\u001B[39m_num_yielded \u001B[38;5;241m+\u001B[39m\u001B[38;5;241m=\u001B[39m \u001B[38;5;241m1\u001B[39m\n\u001B[0;32m    632\u001B[0m \u001B[38;5;28;01mif\u001B[39;00m \u001B[38;5;28mself\u001B[39m\u001B[38;5;241m.\u001B[39m_dataset_kind \u001B[38;5;241m==\u001B[39m _DatasetKind\u001B[38;5;241m.\u001B[39mIterable \u001B[38;5;129;01mand\u001B[39;00m \\\n\u001B[0;32m    633\u001B[0m         \u001B[38;5;28mself\u001B[39m\u001B[38;5;241m.\u001B[39m_IterableDataset_len_called \u001B[38;5;129;01mis\u001B[39;00m \u001B[38;5;129;01mnot\u001B[39;00m \u001B[38;5;28;01mNone\u001B[39;00m \u001B[38;5;129;01mand\u001B[39;00m \\\n\u001B[0;32m    634\u001B[0m         \u001B[38;5;28mself\u001B[39m\u001B[38;5;241m.\u001B[39m_num_yielded \u001B[38;5;241m>\u001B[39m \u001B[38;5;28mself\u001B[39m\u001B[38;5;241m.\u001B[39m_IterableDataset_len_called:\n",
      "File \u001B[1;32m~\\AppData\\Local\\Programs\\Python\\Python310\\lib\\site-packages\\torch\\utils\\data\\dataloader.py:674\u001B[0m, in \u001B[0;36m_SingleProcessDataLoaderIter._next_data\u001B[1;34m(self)\u001B[0m\n\u001B[0;32m    672\u001B[0m \u001B[38;5;28;01mdef\u001B[39;00m \u001B[38;5;21m_next_data\u001B[39m(\u001B[38;5;28mself\u001B[39m):\n\u001B[0;32m    673\u001B[0m     index \u001B[38;5;241m=\u001B[39m \u001B[38;5;28mself\u001B[39m\u001B[38;5;241m.\u001B[39m_next_index()  \u001B[38;5;66;03m# may raise StopIteration\u001B[39;00m\n\u001B[1;32m--> 674\u001B[0m     data \u001B[38;5;241m=\u001B[39m \u001B[38;5;28;43mself\u001B[39;49m\u001B[38;5;241;43m.\u001B[39;49m\u001B[43m_dataset_fetcher\u001B[49m\u001B[38;5;241;43m.\u001B[39;49m\u001B[43mfetch\u001B[49m\u001B[43m(\u001B[49m\u001B[43mindex\u001B[49m\u001B[43m)\u001B[49m  \u001B[38;5;66;03m# may raise StopIteration\u001B[39;00m\n\u001B[0;32m    675\u001B[0m     \u001B[38;5;28;01mif\u001B[39;00m \u001B[38;5;28mself\u001B[39m\u001B[38;5;241m.\u001B[39m_pin_memory:\n\u001B[0;32m    676\u001B[0m         data \u001B[38;5;241m=\u001B[39m _utils\u001B[38;5;241m.\u001B[39mpin_memory\u001B[38;5;241m.\u001B[39mpin_memory(data, \u001B[38;5;28mself\u001B[39m\u001B[38;5;241m.\u001B[39m_pin_memory_device)\n",
      "File \u001B[1;32m~\\AppData\\Local\\Programs\\Python\\Python310\\lib\\site-packages\\torch\\utils\\data\\_utils\\fetch.py:51\u001B[0m, in \u001B[0;36m_MapDatasetFetcher.fetch\u001B[1;34m(self, possibly_batched_index)\u001B[0m\n\u001B[0;32m     49\u001B[0m         data \u001B[38;5;241m=\u001B[39m \u001B[38;5;28mself\u001B[39m\u001B[38;5;241m.\u001B[39mdataset\u001B[38;5;241m.\u001B[39m__getitems__(possibly_batched_index)\n\u001B[0;32m     50\u001B[0m     \u001B[38;5;28;01melse\u001B[39;00m:\n\u001B[1;32m---> 51\u001B[0m         data \u001B[38;5;241m=\u001B[39m [\u001B[38;5;28mself\u001B[39m\u001B[38;5;241m.\u001B[39mdataset[idx] \u001B[38;5;28;01mfor\u001B[39;00m idx \u001B[38;5;129;01min\u001B[39;00m possibly_batched_index]\n\u001B[0;32m     52\u001B[0m \u001B[38;5;28;01melse\u001B[39;00m:\n\u001B[0;32m     53\u001B[0m     data \u001B[38;5;241m=\u001B[39m \u001B[38;5;28mself\u001B[39m\u001B[38;5;241m.\u001B[39mdataset[possibly_batched_index]\n",
      "File \u001B[1;32m~\\AppData\\Local\\Programs\\Python\\Python310\\lib\\site-packages\\torch\\utils\\data\\_utils\\fetch.py:51\u001B[0m, in \u001B[0;36m<listcomp>\u001B[1;34m(.0)\u001B[0m\n\u001B[0;32m     49\u001B[0m         data \u001B[38;5;241m=\u001B[39m \u001B[38;5;28mself\u001B[39m\u001B[38;5;241m.\u001B[39mdataset\u001B[38;5;241m.\u001B[39m__getitems__(possibly_batched_index)\n\u001B[0;32m     50\u001B[0m     \u001B[38;5;28;01melse\u001B[39;00m:\n\u001B[1;32m---> 51\u001B[0m         data \u001B[38;5;241m=\u001B[39m [\u001B[38;5;28;43mself\u001B[39;49m\u001B[38;5;241;43m.\u001B[39;49m\u001B[43mdataset\u001B[49m\u001B[43m[\u001B[49m\u001B[43midx\u001B[49m\u001B[43m]\u001B[49m \u001B[38;5;28;01mfor\u001B[39;00m idx \u001B[38;5;129;01min\u001B[39;00m possibly_batched_index]\n\u001B[0;32m     52\u001B[0m \u001B[38;5;28;01melse\u001B[39;00m:\n\u001B[0;32m     53\u001B[0m     data \u001B[38;5;241m=\u001B[39m \u001B[38;5;28mself\u001B[39m\u001B[38;5;241m.\u001B[39mdataset[possibly_batched_index]\n",
      "Cell \u001B[1;32mIn[20], line 44\u001B[0m, in \u001B[0;36mCustomAugmentedDataset.__getitem__\u001B[1;34m(self, idx)\u001B[0m\n\u001B[0;32m     42\u001B[0m img, label \u001B[38;5;241m=\u001B[39m \u001B[38;5;28mself\u001B[39m\u001B[38;5;241m.\u001B[39mdataset[\u001B[38;5;28mself\u001B[39m\u001B[38;5;241m.\u001B[39mclass_samples[idx]]\n\u001B[0;32m     43\u001B[0m \u001B[38;5;28;01mif\u001B[39;00m \u001B[38;5;28mself\u001B[39m\u001B[38;5;241m.\u001B[39mtransform \u001B[38;5;129;01mis\u001B[39;00m \u001B[38;5;129;01mnot\u001B[39;00m \u001B[38;5;28;01mNone\u001B[39;00m:\n\u001B[1;32m---> 44\u001B[0m     img \u001B[38;5;241m=\u001B[39m \u001B[38;5;28;43mself\u001B[39;49m\u001B[38;5;241;43m.\u001B[39;49m\u001B[43mtransform\u001B[49m\u001B[43m(\u001B[49m\u001B[43mimg\u001B[49m\u001B[43m)\u001B[49m\n\u001B[0;32m     45\u001B[0m \u001B[38;5;28;01melse\u001B[39;00m:\n\u001B[0;32m     46\u001B[0m     img \u001B[38;5;241m=\u001B[39m \u001B[38;5;28mself\u001B[39m\u001B[38;5;241m.\u001B[39maugment_transform(img)\n",
      "File \u001B[1;32m~\\AppData\\Local\\Programs\\Python\\Python310\\lib\\site-packages\\torchvision\\transforms\\transforms.py:95\u001B[0m, in \u001B[0;36mCompose.__call__\u001B[1;34m(self, img)\u001B[0m\n\u001B[0;32m     93\u001B[0m \u001B[38;5;28;01mdef\u001B[39;00m \u001B[38;5;21m__call__\u001B[39m(\u001B[38;5;28mself\u001B[39m, img):\n\u001B[0;32m     94\u001B[0m     \u001B[38;5;28;01mfor\u001B[39;00m t \u001B[38;5;129;01min\u001B[39;00m \u001B[38;5;28mself\u001B[39m\u001B[38;5;241m.\u001B[39mtransforms:\n\u001B[1;32m---> 95\u001B[0m         img \u001B[38;5;241m=\u001B[39m \u001B[43mt\u001B[49m\u001B[43m(\u001B[49m\u001B[43mimg\u001B[49m\u001B[43m)\u001B[49m\n\u001B[0;32m     96\u001B[0m     \u001B[38;5;28;01mreturn\u001B[39;00m img\n",
      "File \u001B[1;32m~\\AppData\\Local\\Programs\\Python\\Python310\\lib\\site-packages\\torch\\nn\\modules\\module.py:1518\u001B[0m, in \u001B[0;36mModule._wrapped_call_impl\u001B[1;34m(self, *args, **kwargs)\u001B[0m\n\u001B[0;32m   1516\u001B[0m     \u001B[38;5;28;01mreturn\u001B[39;00m \u001B[38;5;28mself\u001B[39m\u001B[38;5;241m.\u001B[39m_compiled_call_impl(\u001B[38;5;241m*\u001B[39margs, \u001B[38;5;241m*\u001B[39m\u001B[38;5;241m*\u001B[39mkwargs)  \u001B[38;5;66;03m# type: ignore[misc]\u001B[39;00m\n\u001B[0;32m   1517\u001B[0m \u001B[38;5;28;01melse\u001B[39;00m:\n\u001B[1;32m-> 1518\u001B[0m     \u001B[38;5;28;01mreturn\u001B[39;00m \u001B[38;5;28mself\u001B[39m\u001B[38;5;241m.\u001B[39m_call_impl(\u001B[38;5;241m*\u001B[39margs, \u001B[38;5;241m*\u001B[39m\u001B[38;5;241m*\u001B[39mkwargs)\n",
      "File \u001B[1;32m~\\AppData\\Local\\Programs\\Python\\Python310\\lib\\site-packages\\torch\\nn\\modules\\module.py:1527\u001B[0m, in \u001B[0;36mModule._call_impl\u001B[1;34m(self, *args, **kwargs)\u001B[0m\n\u001B[0;32m   1522\u001B[0m \u001B[38;5;66;03m# If we don't have any hooks, we want to skip the rest of the logic in\u001B[39;00m\n\u001B[0;32m   1523\u001B[0m \u001B[38;5;66;03m# this function, and just call forward.\u001B[39;00m\n\u001B[0;32m   1524\u001B[0m \u001B[38;5;28;01mif\u001B[39;00m \u001B[38;5;129;01mnot\u001B[39;00m (\u001B[38;5;28mself\u001B[39m\u001B[38;5;241m.\u001B[39m_backward_hooks \u001B[38;5;129;01mor\u001B[39;00m \u001B[38;5;28mself\u001B[39m\u001B[38;5;241m.\u001B[39m_backward_pre_hooks \u001B[38;5;129;01mor\u001B[39;00m \u001B[38;5;28mself\u001B[39m\u001B[38;5;241m.\u001B[39m_forward_hooks \u001B[38;5;129;01mor\u001B[39;00m \u001B[38;5;28mself\u001B[39m\u001B[38;5;241m.\u001B[39m_forward_pre_hooks\n\u001B[0;32m   1525\u001B[0m         \u001B[38;5;129;01mor\u001B[39;00m _global_backward_pre_hooks \u001B[38;5;129;01mor\u001B[39;00m _global_backward_hooks\n\u001B[0;32m   1526\u001B[0m         \u001B[38;5;129;01mor\u001B[39;00m _global_forward_hooks \u001B[38;5;129;01mor\u001B[39;00m _global_forward_pre_hooks):\n\u001B[1;32m-> 1527\u001B[0m     \u001B[38;5;28;01mreturn\u001B[39;00m forward_call(\u001B[38;5;241m*\u001B[39margs, \u001B[38;5;241m*\u001B[39m\u001B[38;5;241m*\u001B[39mkwargs)\n\u001B[0;32m   1529\u001B[0m \u001B[38;5;28;01mtry\u001B[39;00m:\n\u001B[0;32m   1530\u001B[0m     result \u001B[38;5;241m=\u001B[39m \u001B[38;5;28;01mNone\u001B[39;00m\n",
      "File \u001B[1;32m~\\AppData\\Local\\Programs\\Python\\Python310\\lib\\site-packages\\torchvision\\transforms\\transforms.py:361\u001B[0m, in \u001B[0;36mResize.forward\u001B[1;34m(self, img)\u001B[0m\n\u001B[0;32m    353\u001B[0m \u001B[38;5;28;01mdef\u001B[39;00m \u001B[38;5;21mforward\u001B[39m(\u001B[38;5;28mself\u001B[39m, img):\n\u001B[0;32m    354\u001B[0m \u001B[38;5;250m    \u001B[39m\u001B[38;5;124;03m\"\"\"\u001B[39;00m\n\u001B[0;32m    355\u001B[0m \u001B[38;5;124;03m    Args:\u001B[39;00m\n\u001B[0;32m    356\u001B[0m \u001B[38;5;124;03m        img (PIL Image or Tensor): Image to be scaled.\u001B[39;00m\n\u001B[1;32m   (...)\u001B[0m\n\u001B[0;32m    359\u001B[0m \u001B[38;5;124;03m        PIL Image or Tensor: Rescaled image.\u001B[39;00m\n\u001B[0;32m    360\u001B[0m \u001B[38;5;124;03m    \"\"\"\u001B[39;00m\n\u001B[1;32m--> 361\u001B[0m     \u001B[38;5;28;01mreturn\u001B[39;00m \u001B[43mF\u001B[49m\u001B[38;5;241;43m.\u001B[39;49m\u001B[43mresize\u001B[49m\u001B[43m(\u001B[49m\u001B[43mimg\u001B[49m\u001B[43m,\u001B[49m\u001B[43m \u001B[49m\u001B[38;5;28;43mself\u001B[39;49m\u001B[38;5;241;43m.\u001B[39;49m\u001B[43msize\u001B[49m\u001B[43m,\u001B[49m\u001B[43m \u001B[49m\u001B[38;5;28;43mself\u001B[39;49m\u001B[38;5;241;43m.\u001B[39;49m\u001B[43minterpolation\u001B[49m\u001B[43m,\u001B[49m\u001B[43m \u001B[49m\u001B[38;5;28;43mself\u001B[39;49m\u001B[38;5;241;43m.\u001B[39;49m\u001B[43mmax_size\u001B[49m\u001B[43m,\u001B[49m\u001B[43m \u001B[49m\u001B[38;5;28;43mself\u001B[39;49m\u001B[38;5;241;43m.\u001B[39;49m\u001B[43mantialias\u001B[49m\u001B[43m)\u001B[49m\n",
      "File \u001B[1;32m~\\AppData\\Local\\Programs\\Python\\Python310\\lib\\site-packages\\torchvision\\transforms\\functional.py:490\u001B[0m, in \u001B[0;36mresize\u001B[1;34m(img, size, interpolation, max_size, antialias)\u001B[0m\n\u001B[0;32m    488\u001B[0m         warnings\u001B[38;5;241m.\u001B[39mwarn(\u001B[38;5;124m\"\u001B[39m\u001B[38;5;124mAnti-alias option is always applied for PIL Image input. Argument antialias is ignored.\u001B[39m\u001B[38;5;124m\"\u001B[39m)\n\u001B[0;32m    489\u001B[0m     pil_interpolation \u001B[38;5;241m=\u001B[39m pil_modes_mapping[interpolation]\n\u001B[1;32m--> 490\u001B[0m     \u001B[38;5;28;01mreturn\u001B[39;00m \u001B[43mF_pil\u001B[49m\u001B[38;5;241;43m.\u001B[39;49m\u001B[43mresize\u001B[49m\u001B[43m(\u001B[49m\u001B[43mimg\u001B[49m\u001B[43m,\u001B[49m\u001B[43m \u001B[49m\u001B[43msize\u001B[49m\u001B[38;5;241;43m=\u001B[39;49m\u001B[43moutput_size\u001B[49m\u001B[43m,\u001B[49m\u001B[43m \u001B[49m\u001B[43minterpolation\u001B[49m\u001B[38;5;241;43m=\u001B[39;49m\u001B[43mpil_interpolation\u001B[49m\u001B[43m)\u001B[49m\n\u001B[0;32m    492\u001B[0m \u001B[38;5;28;01mreturn\u001B[39;00m F_t\u001B[38;5;241m.\u001B[39mresize(img, size\u001B[38;5;241m=\u001B[39moutput_size, interpolation\u001B[38;5;241m=\u001B[39minterpolation\u001B[38;5;241m.\u001B[39mvalue, antialias\u001B[38;5;241m=\u001B[39mantialias)\n",
      "File \u001B[1;32m~\\AppData\\Local\\Programs\\Python\\Python310\\lib\\site-packages\\torchvision\\transforms\\_functional_pil.py:250\u001B[0m, in \u001B[0;36mresize\u001B[1;34m(img, size, interpolation)\u001B[0m\n\u001B[0;32m    247\u001B[0m \u001B[38;5;28;01mif\u001B[39;00m \u001B[38;5;129;01mnot\u001B[39;00m (\u001B[38;5;28misinstance\u001B[39m(size, \u001B[38;5;28mlist\u001B[39m) \u001B[38;5;129;01mand\u001B[39;00m \u001B[38;5;28mlen\u001B[39m(size) \u001B[38;5;241m==\u001B[39m \u001B[38;5;241m2\u001B[39m):\n\u001B[0;32m    248\u001B[0m     \u001B[38;5;28;01mraise\u001B[39;00m \u001B[38;5;167;01mTypeError\u001B[39;00m(\u001B[38;5;124mf\u001B[39m\u001B[38;5;124m\"\u001B[39m\u001B[38;5;124mGot inappropriate size arg: \u001B[39m\u001B[38;5;132;01m{\u001B[39;00msize\u001B[38;5;132;01m}\u001B[39;00m\u001B[38;5;124m\"\u001B[39m)\n\u001B[1;32m--> 250\u001B[0m \u001B[38;5;28;01mreturn\u001B[39;00m \u001B[43mimg\u001B[49m\u001B[38;5;241;43m.\u001B[39;49m\u001B[43mresize\u001B[49m\u001B[43m(\u001B[49m\u001B[38;5;28;43mtuple\u001B[39;49m\u001B[43m(\u001B[49m\u001B[43msize\u001B[49m\u001B[43m[\u001B[49m\u001B[43m:\u001B[49m\u001B[43m:\u001B[49m\u001B[38;5;241;43m-\u001B[39;49m\u001B[38;5;241;43m1\u001B[39;49m\u001B[43m]\u001B[49m\u001B[43m)\u001B[49m\u001B[43m,\u001B[49m\u001B[43m \u001B[49m\u001B[43minterpolation\u001B[49m\u001B[43m)\u001B[49m\n",
      "File \u001B[1;32m~\\AppData\\Local\\Programs\\Python\\Python310\\lib\\site-packages\\PIL\\Image.py:2199\u001B[0m, in \u001B[0;36mImage.resize\u001B[1;34m(self, size, resample, box, reducing_gap)\u001B[0m\n\u001B[0;32m   2191\u001B[0m             \u001B[38;5;28mself\u001B[39m \u001B[38;5;241m=\u001B[39m Image\u001B[38;5;241m.\u001B[39mreduce(\u001B[38;5;28mself\u001B[39m, factor, box\u001B[38;5;241m=\u001B[39mreduce_box)\n\u001B[0;32m   2192\u001B[0m         box \u001B[38;5;241m=\u001B[39m (\n\u001B[0;32m   2193\u001B[0m             (box[\u001B[38;5;241m0\u001B[39m] \u001B[38;5;241m-\u001B[39m reduce_box[\u001B[38;5;241m0\u001B[39m]) \u001B[38;5;241m/\u001B[39m factor_x,\n\u001B[0;32m   2194\u001B[0m             (box[\u001B[38;5;241m1\u001B[39m] \u001B[38;5;241m-\u001B[39m reduce_box[\u001B[38;5;241m1\u001B[39m]) \u001B[38;5;241m/\u001B[39m factor_y,\n\u001B[0;32m   2195\u001B[0m             (box[\u001B[38;5;241m2\u001B[39m] \u001B[38;5;241m-\u001B[39m reduce_box[\u001B[38;5;241m0\u001B[39m]) \u001B[38;5;241m/\u001B[39m factor_x,\n\u001B[0;32m   2196\u001B[0m             (box[\u001B[38;5;241m3\u001B[39m] \u001B[38;5;241m-\u001B[39m reduce_box[\u001B[38;5;241m1\u001B[39m]) \u001B[38;5;241m/\u001B[39m factor_y,\n\u001B[0;32m   2197\u001B[0m         )\n\u001B[1;32m-> 2199\u001B[0m \u001B[38;5;28;01mreturn\u001B[39;00m \u001B[38;5;28mself\u001B[39m\u001B[38;5;241m.\u001B[39m_new(\u001B[38;5;28;43mself\u001B[39;49m\u001B[38;5;241;43m.\u001B[39;49m\u001B[43mim\u001B[49m\u001B[38;5;241;43m.\u001B[39;49m\u001B[43mresize\u001B[49m\u001B[43m(\u001B[49m\u001B[43msize\u001B[49m\u001B[43m,\u001B[49m\u001B[43m \u001B[49m\u001B[43mresample\u001B[49m\u001B[43m,\u001B[49m\u001B[43m \u001B[49m\u001B[43mbox\u001B[49m\u001B[43m)\u001B[49m)\n",
      "\u001B[1;31mKeyboardInterrupt\u001B[0m: "
     ]
    }
   ],
   "source": [
    "# Defining hyperparameters\n",
    "criterion = CrossEntropyLoss()\n",
    "device = 'cuda' if torch.cuda.is_available() else 'cpu'\n",
    "print(f'your device is {device}', end='\\n\\n')\n",
    "optimizer = Adam(model.parameters(), lr=0.001)\n",
    "model = model.to(device)\n",
    "print(model)\n",
    "print('-' * 50)\n",
    "\n",
    "# train model\n",
    "model, acc_lists, loss_lists = train_model(model, criterion, optimizer, dataloaders, datasets, epoch_num=50)"
   ],
   "metadata": {
    "collapsed": false,
    "ExecuteTime": {
     "end_time": "2024-04-02T15:27:51.208326200Z",
     "start_time": "2024-04-02T12:32:58.796860500Z"
    }
   },
   "id": "725f402be2ffac6a"
  },
  {
   "cell_type": "markdown",
   "source": [
    "## Plot Results "
   ],
   "metadata": {
    "collapsed": false
   },
   "id": "69f987c83ba60f81"
  },
  {
   "cell_type": "code",
   "execution_count": null,
   "outputs": [],
   "source": [
    "plt.plot([a.cpu() for a in acc_lists.train], label='train')\n",
    "plt.plot([a.cpu() for a in acc_lists.val], label='val')\n",
    "plt.title('Accuracy')\n",
    "plt.xlabel('Epoch')\n",
    "plt.ylabel('Accuracy Percent')\n",
    "plt.legend()\n",
    "plt.show()"
   ],
   "metadata": {
    "collapsed": false,
    "ExecuteTime": {
     "start_time": "2024-04-02T15:27:51.200326100Z"
    }
   },
   "id": "a1662086cdffb60c"
  },
  {
   "cell_type": "code",
   "execution_count": null,
   "outputs": [],
   "source": [
    "plt.plot([a for a in loss_lists.train], label='train loss')\n",
    "plt.plot([a for a in loss_lists.val], label='val loss')\n",
    "plt.title('Loss')\n",
    "plt.xlabel('Epoch')\n",
    "plt.ylabel('Loss Percent')\n",
    "plt.legend()\n",
    "plt.show()\n"
   ],
   "metadata": {
    "collapsed": false,
    "ExecuteTime": {
     "start_time": "2024-04-02T15:27:51.201327Z"
    }
   },
   "id": "90d57ed078c0e3c9"
  },
  {
   "cell_type": "code",
   "execution_count": null,
   "outputs": [],
   "source": [
    "plt.plot([a.cpu() for a in acc_lists.train], label='train acc')\n",
    "plt.plot([a.cpu() for a in acc_lists.val], label='val acc')\n",
    "plt.plot([a for a in loss_lists.train], label='train loss')\n",
    "plt.plot([a for a in loss_lists.val], label='val loss')\n",
    "plt.title('result')\n",
    "plt.xlabel('Epoch')\n",
    "plt.ylabel('Accuracy Percent')\n",
    "plt.legend()\n",
    "plt.show()"
   ],
   "metadata": {
    "collapsed": false,
    "ExecuteTime": {
     "start_time": "2024-04-02T15:27:51.202326900Z"
    }
   },
   "id": "611bf71796f956ea"
  },
  {
   "cell_type": "markdown",
   "source": [
    "## Save best model weights"
   ],
   "metadata": {
    "collapsed": false
   },
   "id": "e827c1fc21b70f2d"
  },
  {
   "cell_type": "code",
   "execution_count": null,
   "outputs": [],
   "source": [
    "torch.save(model, 'models/model_2.pth')"
   ],
   "metadata": {
    "collapsed": false,
    "ExecuteTime": {
     "start_time": "2024-04-02T15:27:51.203327100Z"
    }
   },
   "id": "95cadb4080c327e6"
  },
  {
   "cell_type": "markdown",
   "source": [
    "## Visualize model predictions"
   ],
   "metadata": {
    "collapsed": false
   },
   "id": "63985af179cb400b"
  },
  {
   "cell_type": "code",
   "execution_count": null,
   "outputs": [],
   "source": [
    "def visualize_model(model):\n",
    "    model.eval()\n",
    "    nrows, ncols = 4, 4\n",
    "    fig, axes = plt.subplots(nrows=nrows, ncols=ncols, figsize=(20, 10))\n",
    "\n",
    "    with torch.no_grad():\n",
    "        for i, (inputs, labels) in enumerate(dataloaders['val']):\n",
    "            inputs = inputs.to(device)\n",
    "            labels = labels.to(device)\n",
    "\n",
    "            outputs = model(inputs)\n",
    "            _, predictions = torch.max(outputs, 1)\n",
    "\n",
    "            for j in range(inputs.size()[0]):\n",
    "                img = inputs.cpu().data[j]\n",
    "                img = img.numpy().transpose((1, 2, 0))\n",
    "                # img = std * img + mean\n",
    "                img = np.clip(img, 0, 1)\n",
    "                axes[i][j].axis('off')\n",
    "                axes[i][j].set_title(\n",
    "                    f'predictions: {class_names[predictions[j]]}, label: {class_names[labels[j]]}'\n",
    "                )\n",
    "                axes[i][j].imshow(img)\n",
    "                if j == ncols - 1:\n",
    "                    break\n",
    "            if i == nrows - 1:\n",
    "                break\n",
    "    plt.savefig('vis.jpg')\n",
    "\n",
    "model = torch.load('models/model_2.pth')\n",
    "visualize_model(model)"
   ],
   "metadata": {
    "collapsed": false,
    "ExecuteTime": {
     "start_time": "2024-04-02T15:27:51.204327400Z"
    }
   },
   "id": "640df5d24d8c574e"
  },
  {
   "cell_type": "markdown",
   "source": [
    "# Fine-Tune model2 classifier and trainable parameters "
   ],
   "metadata": {
    "collapsed": false
   },
   "id": "68cdfa0c0831d0cb"
  },
  {
   "cell_type": "code",
   "execution_count": null,
   "outputs": [],
   "source": [
    "# Define model\n",
    "model2 = dinov2_vits14_reg_21M\n",
    "\n",
    "# Define classifier for Binary Classification task\n",
    "model2.head  = nn.Sequential(\n",
    "    nn.Linear(384, 2)\n",
    ")\n",
    "\n",
    "# Set about 30% of parameters trainable \n",
    "model_params = 0\n",
    "for idx, param in enumerate(model2.parameters()):\n",
    "    param.requires_grad = False\n",
    "    model_params += 1\n",
    "    if idx == 125:\n",
    "        break"
   ],
   "metadata": {
    "collapsed": false,
    "ExecuteTime": {
     "start_time": "2024-04-02T15:27:51.205327100Z"
    }
   },
   "id": "4e4fcd5629682bb6"
  },
  {
   "cell_type": "markdown",
   "source": [
    "# Train ViT-s DINOv2 with registers \n",
    "---------------\n",
    "## Hyperparameters:\n",
    "### optimizer: Adam\n",
    "### criterion: CrossEntropy\n",
    "### Learning Rate: 0.0003\n",
    "### batch size: 32\n",
    "### epoch: 50"
   ],
   "metadata": {
    "collapsed": false
   },
   "id": "e525edccf787b17"
  },
  {
   "cell_type": "code",
   "execution_count": null,
   "outputs": [],
   "source": [
    "# Defining Hyperparameters \n",
    "criterion = CrossEntropyLoss()\n",
    "device = 'cuda' if torch.cuda.is_available() else 'cpu'\n",
    "print(f'your device is {device}', end='\\n\\n')\n",
    "optimizer = Adam(model2.parameters(), lr=0.0003)\n",
    "model2 = model2.to(device)\n",
    "print(model2)\n",
    "print('-' * 50)\n",
    "\n",
    "# train model\n",
    "model2, acc_lists2, loss_lists2 = train_model(model2, criterion, optimizer, dataloaders, datasets, epoch_num=50)"
   ],
   "metadata": {
    "collapsed": false,
    "ExecuteTime": {
     "start_time": "2024-04-02T15:27:51.206326300Z"
    }
   },
   "id": "4f5a14a9f3c363f2"
  },
  {
   "cell_type": "markdown",
   "source": [
    "# Plot results"
   ],
   "metadata": {
    "collapsed": false
   },
   "id": "d13bc46a7f508b8c"
  },
  {
   "cell_type": "code",
   "execution_count": null,
   "outputs": [],
   "source": [
    "plt.plot([a.cpu() for a in acc_lists2.train], label='train')\n",
    "plt.plot([a.cpu() for a in acc_lists2.val], label='val')\n",
    "plt.title('Accuracy')\n",
    "plt.xlabel('Epoch')\n",
    "plt.ylabel('Accuracy Percent')\n",
    "plt.legend()\n",
    "plt.show()"
   ],
   "metadata": {
    "collapsed": false,
    "ExecuteTime": {
     "end_time": "2024-04-02T15:27:51.226326500Z",
     "start_time": "2024-04-02T15:27:51.208326200Z"
    }
   },
   "id": "7fa56938df7d88df"
  },
  {
   "cell_type": "code",
   "execution_count": null,
   "outputs": [],
   "source": [
    "plt.plot([a for a in loss_lists2.train], label='train loss')\n",
    "plt.plot([a for a in loss_lists2.val], label='val loss')\n",
    "plt.title('Loss')\n",
    "plt.xlabel('Epoch')\n",
    "plt.ylabel('Loss Percent')\n",
    "plt.legend()\n",
    "plt.show()\n"
   ],
   "metadata": {
    "collapsed": false,
    "ExecuteTime": {
     "start_time": "2024-04-02T15:27:51.210327200Z"
    }
   },
   "id": "953edc34415d7aa3"
  },
  {
   "cell_type": "code",
   "execution_count": null,
   "outputs": [],
   "source": [
    "plt.plot([a.cpu() for a in acc_lists2.train], label='train acc')\n",
    "plt.plot([a.cpu() for a in acc_lists2.val], label='val acc')\n",
    "plt.plot([a for a in loss_lists2.train], label='train loss')\n",
    "plt.plot([a for a in loss_lists2.val], label='val loss')\n",
    "plt.title('result')\n",
    "plt.xlabel('Epoch')\n",
    "plt.ylabel('Accuracy Percent')\n",
    "plt.legend()\n",
    "plt.show()"
   ],
   "metadata": {
    "collapsed": false,
    "ExecuteTime": {
     "start_time": "2024-04-02T15:27:51.212327100Z"
    }
   },
   "id": "f23aba7bc0c815e6"
  },
  {
   "cell_type": "markdown",
   "source": [
    "# Visualize model predictions"
   ],
   "metadata": {
    "collapsed": false
   },
   "id": "902be7f60a3c3c8a"
  },
  {
   "cell_type": "code",
   "execution_count": null,
   "outputs": [],
   "source": [
    "def visualize_model(model):\n",
    "    model.eval()\n",
    "    nrows, ncols = 4, 4\n",
    "    fig, axes = plt.subplots(nrows=nrows, ncols=ncols, figsize=(20, 10))\n",
    "\n",
    "    with torch.no_grad():\n",
    "        for i, (inputs, labels) in enumerate(dataloaders['val']):\n",
    "            inputs = inputs.to(device)\n",
    "            labels = labels.to(device)\n",
    "\n",
    "            outputs = model(inputs)\n",
    "            _, predictions = torch.max(outputs, 1)\n",
    "\n",
    "            for j in range(inputs.size()[0]):\n",
    "                img = inputs.cpu().data[j]\n",
    "                img = img.numpy().transpose((1, 2, 0))\n",
    "                # img = std * img + mean\n",
    "                img = np.clip(img, 0, 1)\n",
    "                axes[i][j].axis('off')\n",
    "                axes[i][j].set_title(\n",
    "                    f'predictions: {class_names[predictions[j]]}, label: {class_names[labels[j]]}'\n",
    "                )\n",
    "                axes[i][j].imshow(img)\n",
    "                if j == ncols - 1:\n",
    "                    break\n",
    "            if i == nrows - 1:\n",
    "                break\n",
    "    plt.savefig('vis.jpg')\n",
    "\n",
    "\n",
    "visualize_model(model2)"
   ],
   "metadata": {
    "collapsed": false,
    "ExecuteTime": {
     "start_time": "2024-04-02T15:27:51.213327900Z"
    }
   },
   "id": "a5d5bf061e5894d8"
  },
  {
   "cell_type": "markdown",
   "source": [
    "## Save best model weights"
   ],
   "metadata": {
    "collapsed": false
   },
   "id": "fc545b1b94b38a73"
  },
  {
   "cell_type": "code",
   "execution_count": null,
   "outputs": [],
   "source": [
    "torch.save(model, 'models/model_3.pth')"
   ],
   "metadata": {
    "collapsed": false,
    "ExecuteTime": {
     "start_time": "2024-04-02T15:27:51.215327300Z"
    }
   },
   "id": "2ae7dc97ee490f61"
  },
  {
   "cell_type": "code",
   "execution_count": null,
   "outputs": [],
   "source": [
    "from sklearn.metrics import confusion_matrix\n",
    "import pandas as pd\n",
    "import seaborn as sns\n",
    "\n",
    "def plot_cm(model):\n",
    "    y_true, y_pred = [], []\n",
    "    model.eval()\n",
    "    with torch.no_grad():\n",
    "        for inputs, labels in dataloaders['val']:\n",
    "            inputs = inputs.to(device)\n",
    "            outputs = model(inputs)\n",
    "\n",
    "            outputs = (torch.max(torch.exp(outputs), 1)[1]).data.cpu().numpy()\n",
    "            y_pred.extend(outputs)\n",
    "\n",
    "            labels = labels.data.cpu().numpy()\n",
    "            y_true.extend(labels)\n",
    "\n",
    "    cm = confusion_matrix(y_true, y_pred)\n",
    "    df_cm = pd.DataFrame(\n",
    "        cm / np.sum(cm, axis=1)[:, None],\n",
    "        index=[i for i in class_names],\n",
    "        columns=[i for i in class_names]\n",
    "    )\n",
    "\n",
    "    plt.figure(figsize=(15, 10))\n",
    "    sns.heatmap(df_cm, annot=True, cbar=False)\n",
    "    plt.show()\n",
    "\n",
    "\n",
    "model = torch.load('models/model_2.pth')\n",
    "device = 'cuda' if torch.cuda.is_available() else 'cpu'\n",
    "plot_cm(model)"
   ],
   "metadata": {
    "collapsed": false,
    "ExecuteTime": {
     "start_time": "2024-04-02T15:27:51.216326Z"
    }
   },
   "id": "ebc05e2eebffe697"
  },
  {
   "cell_type": "code",
   "execution_count": null,
   "outputs": [],
   "source": [],
   "metadata": {
    "collapsed": false,
    "ExecuteTime": {
     "start_time": "2024-04-02T15:27:51.217327200Z"
    }
   },
   "id": "1a72bcfd1425e3f4"
  }
 ],
 "metadata": {
  "kernelspec": {
   "display_name": "Python 3",
   "language": "python",
   "name": "python3"
  },
  "language_info": {
   "codemirror_mode": {
    "name": "ipython",
    "version": 2
   },
   "file_extension": ".py",
   "mimetype": "text/x-python",
   "name": "python",
   "nbconvert_exporter": "python",
   "pygments_lexer": "ipython2",
   "version": "2.7.6"
  }
 },
 "nbformat": 4,
 "nbformat_minor": 5
}
